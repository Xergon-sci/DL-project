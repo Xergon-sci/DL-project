{
 "cells": [
  {
   "cell_type": "markdown",
   "metadata": {
    "id": "4Z7_Nl5pbR5D"
   },
   "source": [
    "# Deep Learning Exercise: Transformers"
   ]
  },
  {
   "cell_type": "code",
   "execution_count": 30,
   "metadata": {
    "id": "u4SRzsKAbMfE"
   },
   "outputs": [],
   "source": [
    "import torch\n",
    "from torch import nn\n",
    "import random\n",
    "import math\n",
    "import numpy as np\n",
    "\n",
    "# Set seed for reproducibility\n",
    "SEED = 123\n",
    "random.seed(SEED)\n",
    "np.random.seed(SEED)\n",
    "torch.manual_seed(SEED)\n",
    "torch.cuda.manual_seed_all(SEED)"
   ]
  },
  {
   "cell_type": "markdown",
   "metadata": {
    "id": "RVZE5oxyTlQD"
   },
   "source": [
    "# Exercise 1:  Scaled Dot-Product Attention\n",
    "\n",
    "In this exercise, you will use PyTorch to implement the scaled dot product attention model. <br>\n",
    "\n",
    "\n",
    "The equation in matrix form is as follows: \n",
    "$$\\mathrm{Attention}(Q,K,V) =  \\mathrm{softmax}(\\frac{QK^T}{\\sqrt{d_k}})V$$\n",
    "\n",
    "where $Q \\in \\mathbb{R}^{n \\times d}$, $K \\in \\mathbb{R}^{m \\times d}$, and $V \\in \\mathbb{R}^{m \\times v}$. $d_k$ is the length of the input (query vector).<br>\n",
    "\n",
    "Now it's time to implement this model in PyTorch. \n"
   ]
  },
  {
   "cell_type": "markdown",
   "metadata": {
    "id": "PioDg9a_Tm_y"
   },
   "source": [
    "**Note**: For the **softmax** function, you can eaisly use the function [**nn.functional.softmax**](https://pytorch.org/docs/stable/generated/torch.nn.functional.softmax.html). "
   ]
  },
  {
   "cell_type": "code",
   "execution_count": 31,
   "metadata": {
    "id": "ARL_sUuQc_-D"
   },
   "outputs": [],
   "source": [
    "class ScaledDotProductAttention(nn.Module):\n",
    "  \"\"\"Scaled dot product attention.\"\"\"\n",
    "  def __init__(self, **kwargs):\n",
    "    super(ScaledDotProductAttention, self).__init__(**kwargs)\n",
    "    self.attention_weights = None\n",
    "    self.attention_output = None\n",
    "\n",
    "\n",
    "  def forward(self, queries, keys, values):\n",
    "    # plese write your code based on the above function\n",
    "    # step 1: obtain d_k which is the length of the query vector\n",
    "    d_k = len(queries) # YOUR CODE GOES HERE\n",
    "    # step 2: calculate the attention weights\n",
    "    self.attention_weights = nn.functional.softmax(queries@keys.transpose(0,1))/math.sqrt(d_k) # YOUR CODE GOES HERE\n",
    "    # setp 3: get the output of the attention model -- multiply attention weights with values\n",
    "    self.attention_output = torch.matmul(self.attention_weights, values) # YOUR CODE GOES HERE\n",
    "\n",
    "    return self.attention_output"
   ]
  },
  {
   "cell_type": "markdown",
   "metadata": {
    "id": "-d23oGFZ6xfG"
   },
   "source": [
    "Given queries, keys and values, calculate the output of the scaled dot product attention model."
   ]
  },
  {
   "cell_type": "code",
   "execution_count": 32,
   "metadata": {
    "colab": {
     "base_uri": "https://localhost:8080/"
    },
    "id": "7hnu2QEJ2ZPa",
    "outputId": "f6b5e649-d7f9-4ffb-b00c-51b3a73a28f6"
   },
   "outputs": [
    {
     "name": "stdout",
     "output_type": "stream",
     "text": [
      "tensor([[ 8.9013,  9.4013,  9.9013, 10.4013, 10.9013],\n",
      "        [ 9.6249, 10.1249, 10.6249, 11.1249, 11.6249],\n",
      "        [ 6.7555,  7.2555,  7.7555,  8.2555,  8.7555],\n",
      "        [10.5376, 11.0376, 11.5376, 12.0376, 12.5376]])\n"
     ]
    },
    {
     "name": "stderr",
     "output_type": "stream",
     "text": [
      "<ipython-input-31-21cab1da89f2>:14: UserWarning: Implicit dimension choice for softmax has been deprecated. Change the call to include dim=X as an argument.\n",
      "  self.attention_weights = nn.functional.softmax(queries@keys.transpose(0,1))/math.sqrt(d_k) # YOUR CODE GOES HERE\n"
     ]
    }
   ],
   "source": [
    "# queries, keys, values\n",
    "queries = torch.normal(0, 1, (4, 8))\n",
    "keys = torch.normal(0, 1, (6, 8))\n",
    "values = torch.arange(30, dtype=torch.float32).reshape(6, 5)\n",
    "\n",
    "# initialize the scaled dot product attention model\n",
    "attention_model = ScaledDotProductAttention()\n",
    "attention_model.eval()\n",
    "\n",
    "# use the ScaledDotProductAttention class to get the results\n",
    "scaled_dot_product_attention_output = attention_model(queries, keys, values)\n",
    "\n",
    "print(scaled_dot_product_attention_output)"
   ]
  },
  {
   "cell_type": "markdown",
   "metadata": {
    "id": "6ZzC7Kj9uHcq"
   },
   "source": [
    "# Exercise 2: Sentiment analysis using BERT\n",
    "In this part, you will use the transformer-based model -- BERT to perfrom a ***sentiment analysis*** task based on the [IMDB dataset](https://ai.stanford.edu/~amaas/data/sentiment/). <br>\n",
    "\n",
    "Two important Python libraries will be used in this exercise:\n",
    "\n",
    "*   [transformers](https://huggingface.co/transformers/): This one provides general-purpose architectures (BERT, GPT-2, RoBERTa, XLM, DistilBert, XLNet…) for Natural Language Understanding (NLU) and Natural Language Generation (NLG) with over 32+ pretrained models in 100+ languages and deep interoperability between Jax, PyTorch and TensorFlow.\n",
    "*   [torchtext](https://pytorch.org/text/stable/index.html): The torchtext package consists of data processing utilities and popular datasets for natural language.\n",
    "\n",
    "\n"
   ]
  },
  {
   "cell_type": "code",
   "execution_count": null,
   "metadata": {
    "id": "5iPrnk3MIZvP"
   },
   "outputs": [],
   "source": [
    "! pip install transformers\n",
    "! pip install torchtext"
   ]
  },
  {
   "cell_type": "markdown",
   "metadata": {
    "id": "xoQreRQA6owK"
   },
   "source": [
    "## Set up GPU \n",
    "Check the availability of the GPU. Make sure you change the runtime type of the colab notebook to enable the use of the GPU. "
   ]
  },
  {
   "cell_type": "code",
   "execution_count": 33,
   "metadata": {
    "id": "AQ1C6a4n6mLb"
   },
   "outputs": [
    {
     "name": "stdout",
     "output_type": "stream",
     "text": [
      "No GPU available, using the CPU instead.\n"
     ]
    }
   ],
   "source": [
    "if torch.cuda.is_available():       \n",
    "    device = torch.device(\"cuda\")\n",
    "    print(f'There are {torch.cuda.device_count()} GPU(s) available.')\n",
    "    print('Device name:', torch.cuda.get_device_name(0))\n",
    "\n",
    "else:\n",
    "    print('No GPU available, using the CPU instead.')\n",
    "    device = torch.device(\"cpu\")"
   ]
  },
  {
   "cell_type": "markdown",
   "metadata": {
    "id": "f4RgD0k28AY7"
   },
   "source": [
    "## Load and preprocess data\n",
    "\n",
    "We will use the torchtext to load the IMDB dataset.<br>\n",
    "\n",
    "Please refer to [the document of torchtext](https://https://pytorch.org/text/stable/datasets.html#imdb) for more information. <br>\n",
    "\n",
    "**Note**: To make the training process less time-consuming, we extract 5000 IMDB reviews for the dataset."
   ]
  },
  {
   "cell_type": "code",
   "execution_count": 34,
   "metadata": {
    "id": "_tKqDjAD63r6"
   },
   "outputs": [
    {
     "ename": "ModuleNotFoundError",
     "evalue": "No module named 'torchtext'",
     "output_type": "error",
     "traceback": [
      "\u001b[0;31m---------------------------------------------------------------------------\u001b[0m",
      "\u001b[0;31mModuleNotFoundError\u001b[0m                       Traceback (most recent call last)",
      "\u001b[0;32m<ipython-input-34-3d7827296db7>\u001b[0m in \u001b[0;36m<module>\u001b[0;34m\u001b[0m\n\u001b[0;32m----> 1\u001b[0;31m \u001b[0;32mfrom\u001b[0m \u001b[0mtorchtext\u001b[0m\u001b[0;34m.\u001b[0m\u001b[0mdatasets\u001b[0m \u001b[0;32mimport\u001b[0m \u001b[0mIMDB\u001b[0m\u001b[0;34m\u001b[0m\u001b[0;34m\u001b[0m\u001b[0m\n\u001b[0m\u001b[1;32m      2\u001b[0m \u001b[0;34m\u001b[0m\u001b[0m\n\u001b[1;32m      3\u001b[0m \u001b[0;31m# get 5000 reviews with their sentiment labels\u001b[0m\u001b[0;34m\u001b[0m\u001b[0;34m\u001b[0m\u001b[0;34m\u001b[0m\u001b[0m\n\u001b[1;32m      4\u001b[0m \u001b[0mimdb_data\u001b[0m \u001b[0;34m=\u001b[0m  \u001b[0mlist\u001b[0m\u001b[0;34m(\u001b[0m\u001b[0mIMDB\u001b[0m\u001b[0;34m(\u001b[0m\u001b[0msplit\u001b[0m\u001b[0;34m=\u001b[0m\u001b[0;34m'train'\u001b[0m\u001b[0;34m)\u001b[0m\u001b[0;34m)\u001b[0m\u001b[0;34m\u001b[0m\u001b[0;34m\u001b[0m\u001b[0m\n\u001b[1;32m      5\u001b[0m \u001b[0mrandom\u001b[0m\u001b[0;34m.\u001b[0m\u001b[0mshuffle\u001b[0m\u001b[0;34m(\u001b[0m\u001b[0mimdb_data\u001b[0m\u001b[0;34m)\u001b[0m\u001b[0;34m\u001b[0m\u001b[0;34m\u001b[0m\u001b[0m\n",
      "\u001b[0;31mModuleNotFoundError\u001b[0m: No module named 'torchtext'"
     ]
    }
   ],
   "source": [
    "from torchtext.datasets import IMDB\n",
    "\n",
    "# get 5000 reviews with their sentiment labels\n",
    "imdb_data =  list(IMDB(split='train'))\n",
    "random.shuffle(imdb_data)\n",
    "\n",
    "imdb_data = imdb_data[:int(0.2*len(imdb_data))]"
   ]
  },
  {
   "cell_type": "markdown",
   "metadata": {
    "id": "6QBLZSYxA4jo"
   },
   "source": [
    "Create a pandas DataFrame to visualize the dataset"
   ]
  },
  {
   "cell_type": "code",
   "execution_count": null,
   "metadata": {
    "id": "YruFqeOBAKwn"
   },
   "outputs": [],
   "source": [
    "import pandas as pd\n",
    "\n",
    "imdb_df = pd.DataFrame(imdb_data, columns=['sentiment', 'review'])"
   ]
  },
  {
   "cell_type": "code",
   "execution_count": null,
   "metadata": {
    "id": "U_W2OfbkAxsw"
   },
   "outputs": [],
   "source": [
    "# visualize the dataset\n",
    "imdb_df"
   ]
  },
  {
   "cell_type": "markdown",
   "metadata": {
    "id": "D6HXUkQM_ptI"
   },
   "source": [
    "Use [pandas.DataFrame.replace](https://pandas.pydata.org/docs/reference/api/pandas.DataFrame.replace.html) to convert the categorical values to numerical values for the **sentiment** column in the **imdb_df** DataFrame.\n",
    "\n",
    "\n",
    "*   pos -> 1\n",
    "*   neg -> 0\n",
    "\n",
    "\n"
   ]
  },
  {
   "cell_type": "code",
   "execution_count": null,
   "metadata": {
    "id": "JRQb091A_A10"
   },
   "outputs": [],
   "source": [
    "# YOUR CODE GOES HERE"
   ]
  },
  {
   "cell_type": "code",
   "execution_count": null,
   "metadata": {
    "id": "LBldAF_vE1Hh"
   },
   "outputs": [],
   "source": [
    "# visualize the processed dataset\n",
    "imdb_df"
   ]
  },
  {
   "cell_type": "markdown",
   "metadata": {
    "id": "Nd9Iw2fKF7yt"
   },
   "source": [
    "## Split the dataset to train/test sets\n",
    "\n",
    "**Note**: The split ratio for train/test is 0.7/0.3"
   ]
  },
  {
   "cell_type": "code",
   "execution_count": null,
   "metadata": {
    "id": "5RsKLNxsE1fo"
   },
   "outputs": [],
   "source": [
    "# get reviews and corresponding sentiments from imdb_df\n",
    "reviews = imdb_df.review.values\n",
    "sentiments = imdb_df.sentiment.values"
   ]
  },
  {
   "cell_type": "code",
   "execution_count": null,
   "metadata": {
    "id": "wO779xGPG0kK"
   },
   "outputs": [],
   "source": [
    "from sklearn.model_selection import train_test_split\n",
    "\n",
    "# use the function -- train_test_split to split the reviews and sentiments to get train/test sets\n",
    "\n",
    "X_train, X_test, Y_train, Y_test = # YOUR CODE GOES HERE\n",
    "\n",
    "\n",
    "# convert numpy array to list\n",
    "X_train = X_train.tolist()\n",
    "X_test = X_test.tolist()"
   ]
  },
  {
   "cell_type": "markdown",
   "metadata": {
    "id": "UMPF3sI8IiQO"
   },
   "source": [
    "## Preprocess data for the BERT model"
   ]
  },
  {
   "cell_type": "markdown",
   "metadata": {
    "id": "wKmR4KHaBleA"
   },
   "source": [
    "![BERT.png](data:image/png;base64,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)"
   ]
  },
  {
   "cell_type": "markdown",
   "metadata": {
    "id": "hmDBsu5oE04f"
   },
   "source": [
    "In order to use the pre-trained BERT model, we need to apply the **BERT tokenizer** to process the input sequence. <br>\n",
    "The reasons are: \n",
    "\n",
    "1.   The model has a specific, fixed vocabulary. \n",
    "2.   The model uses the WordPiece tokenizer that has a particular way of handling out-of-vocabulary words.\n",
    "\n",
    "Specifically, for the input sequence, we need to:\n",
    "\n",
    "\n",
    "1.   add the special token `[CLS]` to the start, and the special token `[SEP]` to the end, for each sequence\n",
    "2.   pad & truncate all sequences to a single constant length\n",
    "3.   explicitly specify what are padding tokens with the \"attention mask\"\n",
    "\n",
    "More information regarding the BERT tokenizer can be found [here](https://huggingface.co/transformers/tokenizer_summary.html).<br>\n",
    "\n",
    "The above figure shows an example of how the tokenzier works. \n",
    "\n",
    "\n"
   ]
  },
  {
   "cell_type": "markdown",
   "metadata": {
    "id": "p_O5hk-0P0eW"
   },
   "source": [
    "**Note**: Use `BertTokenizer` to tokenize the text in train and test sets. The output of the tokenizer is a dictionary string to list of ints. The output dictionary contains three keys: `input_ids`, `attention_mask`, and `token_type_ids`.\n",
    "The `input_ids` are the indices corresponding to each token in our \n",
    "\n",
    "*   The `input_ids` are the indices corresponding to each token in our sentence. \n",
    "*   The `attention_mask` points out which tokens the model should pay attention to and which ones it should not (since some of the tokens are padding tokens). \n",
    "*   The `token_type_ids` indicates to the model which part of the inputs correspond to the first sentence and which part corresponds to the second sentence. In our case, it will have values of all zeros.\n",
    "\n",
    "Check this [link](https://huggingface.co/transformers/preprocessing.html) to see how to use the tokenizer.\n"
   ]
  },
  {
   "cell_type": "code",
   "execution_count": null,
   "metadata": {
    "id": "oJChSGI8Bkgm"
   },
   "outputs": [],
   "source": [
    "from transformers import BertTokenizer\n",
    "\n",
    "# load the BERT tokenizer\n",
    "tokenizer = BertTokenizer.from_pretrained('bert-base-uncased', do_lower_case=True)\n",
    "\n",
    "# use the tokenizer to tokenize X_train and X_test to get the input_ids, token_type_ids, and attention_mask\n",
    "# set padding and truncation to True, return_tensors to 'pt', and max_length to 100\n",
    "# the data type of the tokenizer_output_train and the tokenizer_output_test is dictionary\n",
    "\n",
    "tokenizer_output_train = # YOUR CODE GOES HERE\n",
    "tokenizer_output_test = # YOUR CODE GOES HERE"
   ]
  },
  {
   "cell_type": "markdown",
   "metadata": {
    "id": "W0BW3EjEpOQV"
   },
   "source": [
    "## Create PyTorch DataLoader\n",
    "\n",
    "Use the torch [DataLoader](https://pytorch.org/docs/stable/data.html) class to create iterators for the train and test sets. This will help save on memory during training and boost the training speed."
   ]
  },
  {
   "cell_type": "code",
   "execution_count": null,
   "metadata": {
    "id": "B89utimApNUB"
   },
   "outputs": [],
   "source": [
    "from torch.utils.data import TensorDataset, DataLoader, RandomSampler, SequentialSampler\n",
    "\n",
    "# convert the data type of the train and test labels to torch.tensor\n",
    "train_labels = torch.tensor(Y_train)\n",
    "test_labels = torch.tensor(Y_test)\n",
    "\n",
    "# set the batch_size for training and testing\n",
    "train_batch_size = 32\n",
    "test_batch_size = 64\n",
    "\n",
    "# create the DataLoader for the train set\n",
    "train_data = TensorDataset(tokenizer_output_train['input_ids'], tokenizer_output_train['attention_mask'], tokenizer_output_train['token_type_ids'], train_labels)\n",
    "train_sampler = RandomSampler(train_data)\n",
    "train_dataloader = # YOUR CODE GOES HERE, use train_batch_size\n",
    "\n",
    "# create the DataLoader for the test set\n",
    "test_data = TensorDataset(tokenizer_output_test['input_ids'], tokenizer_output_test['attention_mask'], tokenizer_output_test['token_type_ids'], test_labels)\n",
    "test_sampler = SequentialSampler(test_data)\n",
    "test_dataloader = # YOUR CODE GOES HERE, use test_batch_size"
   ]
  },
  {
   "cell_type": "markdown",
   "metadata": {
    "id": "6bnGE-CQvkH0"
   },
   "source": [
    "## Build our BERT model for sentiment analysis\n",
    "\n",
    "### Create BertClassifier\n",
    "\n",
    "BERT-base consists of 12 transformer encoder layers, each encoder layer takes in a list of token embeddings, and produces the same number of embeddings with a same hidden size on the output. The output of the final encoder layer of the `[CLS]` token is used to classifiy the input sequence.<br>\n",
    "\n",
    "We will create a `BertClassifier` class that is based on the `bert-base-uncased` model to use the last hidden layer of the `[CLS] `token and a single-hidden-layer feed-forward neural network as our classifier.\n",
    "\n",
    "**Note**: \n",
    "\n",
    "1.   check this [link](https://huggingface.co/transformers/model_doc/bert.html#bertmodel) for the output of the BertModel. \n",
    "2.   check [nn.Sequential](https://pytorch.org/docs/stable/generated/torch.nn.Sequential.html) for how to build a single-hidden-layer feed-forward neural network. You can use [nn.Linear](https://pytorch.org/docs/stable/generated/torch.nn.Linear.html). Make sure you use the correct dimensions of the network as mentioned in the code below.\n",
    "\n"
   ]
  },
  {
   "cell_type": "code",
   "execution_count": null,
   "metadata": {
    "id": "7cwmEeX00wGY"
   },
   "outputs": [],
   "source": [
    "from transformers import BertModel\n",
    "bert1 = BertModel.from_pretrained('bert-base-uncased')"
   ]
  },
  {
   "cell_type": "code",
   "execution_count": null,
   "metadata": {
    "id": "H1K3J8KUv6Iw"
   },
   "outputs": [],
   "source": [
    "from transformers import BertModel\n",
    "\n",
    "# create the BertClassfier class\n",
    "class BertClassifier(nn.Module):\n",
    "    \"\"\"Bert Model for sentiment analysis.\n",
    "    \"\"\"\n",
    "    def __init__(self):\n",
    "        \"\"\"\n",
    "        @param  hidden_size_classifier (int): the hidden size of the classifier\n",
    "        \"\"\"\n",
    "        super(BertClassifier, self).__init__()\n",
    "\n",
    "        # instantiate the BERT model\n",
    "        self.bert = BertModel.from_pretrained('bert-base-uncased')\n",
    "\n",
    "        # specify hidden size of BERT, hidden size of our classifier, and number of labels\n",
    "        self.hidden_size_bert = self.bert.config.hidden_size\n",
    "        self.hidden_size_classifier = 50\n",
    "        self.num_labels = 2\n",
    "\n",
    "        # instantiate an one-layer feed-forward classifier\n",
    "        self.classifier = nn.Sequential(\n",
    "            # YOUR CODE GOES HERE\n",
    "        )\n",
    "        \n",
    "    def forward(self, input_ids, attention_mask, token_type_ids):\n",
    "        \"\"\"\n",
    "        Feed input to BERT and the classifier to compute logits.\n",
    "        @param    input_ids (torch.Tensor): an input tensor with shape (batch_size, max_length)\n",
    "        @param    attention_mask (torch.Tensor): a tensor that hold attention mask information with shape (batch_size, max_length)\n",
    "        @param    token_type_ids (torch.Tensor): a tensor that hold token type information with shape (batch_size, max_length)\n",
    "        @return   logits (torch.Tensor): an output tensor with shape (batch_size,\n",
    "                      num_labels)\n",
    "        \"\"\"\n",
    "        # feed input to BERT\n",
    "        outputs = self.bert(input_ids=input_ids,\n",
    "                            attention_mask=attention_mask,\n",
    "                            token_type_ids=token_type_ids\n",
    "                            )\n",
    "        \n",
    "        # extract the last hidden state of the token `[CLS]` for sentence classification\n",
    "        # outputs is a tuple of (last_hidden_state, pooler_output)\n",
    "        # use the last_hidden_state (torch.FloatTensor of shape (batch_size, sequence_length, hidden_size)) to get the hidden state of the [CLS] token\n",
    "        last_hidden_state_cls = # YOUR CODE GOES HERE\n",
    "\n",
    "        # feed input to classifier to compute logits\n",
    "        logits = self.classifier(last_hidden_state_cls)\n",
    "\n",
    "        return logits"
   ]
  },
  {
   "cell_type": "markdown",
   "metadata": {
    "id": "HwQlQ_sS2rqL"
   },
   "source": [
    "### Optimizer and Loss Function\n",
    "\n",
    "\n",
    "\n",
    "*   For the optimizer, use the [AdamW](https://pytorch.org/docs/stable/generated/torch.optim.AdamW.html). Recommended learning rate : 5e-5, 3e-5 or 2e-5. Recommended eps: 1e-8.\n",
    "*   For the loss function (criterion), use the [CrossEntropyLoss](https://pytorch.org/docs/stable/generated/torch.nn.CrossEntropyLoss.html).\n",
    "\n",
    "\n"
   ]
  },
  {
   "cell_type": "code",
   "execution_count": null,
   "metadata": {
    "id": "RwlTZomk4SD8"
   },
   "outputs": [],
   "source": [
    "from transformers import AdamW\n",
    "\n",
    "# instantiate a Bert Classifier\n",
    "bert_classifier = BertClassifier()\n",
    "\n",
    "# move the model to device (GPU or CPU)\n",
    "bert_classifier.to(device)\n",
    "\n",
    "# create the optimizer\n",
    "optimizer = # YOUR CODE GOES HERE\n",
    "\n",
    "# set the loss function\n",
    "criterion = # YOUR CODE GOES HERE"
   ]
  },
  {
   "cell_type": "markdown",
   "metadata": {
    "id": "eGFh_Uj-6SD1"
   },
   "source": [
    "### Training\n",
    "\n",
    "The training loop involves the following steps:\n",
    "\n",
    "\n",
    "*   Unpack our data from the dataloader and load the data onto the GPU\n",
    "*   Zero out gradients calculated in the previous pass\n",
    "* Perform a forward pass to compute logits and loss\n",
    "* Perform a backward pass to compute gradients\n",
    "* Clip the norm of the gradients to 1.0 to prevent \"exploding gradients\"\n",
    "* Update the model's parameters \n",
    "* Update the learning rate \n",
    "\n"
   ]
  },
  {
   "cell_type": "code",
   "execution_count": null,
   "metadata": {
    "id": "Rhu7J19J7Rkk"
   },
   "outputs": [],
   "source": [
    "from transformers import get_linear_schedule_with_warmup\n",
    "import time\n",
    "\n",
    "# training loop\n",
    "def train(dataloader, model, optimizer, criterion, epochs):\n",
    "\n",
    "  # set the scheduler\n",
    "  total_steps = len(dataloader) * epochs\n",
    "  scheduler = get_linear_schedule_with_warmup(optimizer, num_warmup_steps=0, num_training_steps=total_steps)\n",
    "\n",
    "  print('Start training...\\n')\n",
    "  for epoch_i in range(epochs):\n",
    "    \n",
    "      # print the header of the result table\n",
    "      print(f\"{'Epoch':^7} | {'Batch':^7} | {'Train Loss':^12} | {'Elapsed':^9}\")\n",
    "      print(\"-\"*70)\n",
    "\n",
    "      # measure the elapsed time of each epoch\n",
    "      t0_epoch, t0_batch = time.time(), time.time()\n",
    "\n",
    "      # reset tracking variables at the beginning of each epoch\n",
    "      total_loss, batch_loss, batch_counts = 0, 0, 0\n",
    "\n",
    "      # put the model into the training mode\n",
    "      model.train()\n",
    "\n",
    "      # for each batch of training data...\n",
    "      for step, batch in enumerate(train_dataloader):\n",
    "          batch_counts +=1\n",
    "          # load batch to device (GPU or CPU)\n",
    "          b_input_ids, b_attn_mask, b_token_type_ids, b_labels = tuple(t.to(device) for t in batch)\n",
    "\n",
    "          # zero out any previously calculated gradients\n",
    "          model.zero_grad()\n",
    "\n",
    "          # perform a forward pass. This will return logits.\n",
    "          # use b_input_ids, b_attn_mask, b_token_type_ids to input to the model\n",
    "          logits = # YOUR CODE GOES HERE\n",
    "\n",
    "          # compute loss and accumulate the loss values\n",
    "          loss = criterion(logits, b_labels)\n",
    "          batch_loss += loss.item()\n",
    "          total_loss += loss.item()\n",
    "\n",
    "          # perform a backward pass to calculate gradients\n",
    "          # use backward() function for the loss\n",
    "          # YOUR CODE GOES HERE\n",
    "\n",
    "          # clip the norm of the gradients to 1.0 to prevent \"exploding gradients\"\n",
    "          torch.nn.utils.clip_grad_norm_(model.parameters(), 1.0)\n",
    "\n",
    "          # update parameters and the learning rate\n",
    "          optimizer.step()\n",
    "          scheduler.step()\n",
    "\n",
    "          # print the loss values and time elapsed for every 20 batches\n",
    "          if (step % 20 == 0 and step != 0) or (step == len(train_dataloader) - 1):\n",
    "              # calculate time elapsed for 20 batches\n",
    "              time_elapsed = time.time() - t0_batch\n",
    "\n",
    "              # print training results\n",
    "              print(f\"{epoch_i + 1:^7} | {step:^7} | {batch_loss / batch_counts:^12.6f} | {time_elapsed:^9.2f}\")\n",
    "\n",
    "              # reset batch tracking variables\n",
    "              batch_loss, batch_counts = 0, 0\n",
    "              t0_batch = time.time()\n",
    "\n",
    "      # calculate the average loss over the entire training data\n",
    "      avg_train_loss = total_loss / len(train_dataloader)\n",
    "\n",
    "  print('Training complete')"
   ]
  },
  {
   "cell_type": "code",
   "execution_count": null,
   "metadata": {
    "id": "ifooRxnSByQ-"
   },
   "outputs": [],
   "source": [
    "train(train_dataloader, bert_classifier, optimizer, criterion, epochs = 2)"
   ]
  },
  {
   "cell_type": "code",
   "execution_count": null,
   "metadata": {
    "id": "7710eY4QCEaQ"
   },
   "outputs": [],
   "source": []
  },
  {
   "cell_type": "markdown",
   "metadata": {
    "id": "kML6c5FuCSFI"
   },
   "source": [
    "### Evaluation \n",
    "\n",
    "The steps for evaluation are:\n",
    "\n",
    "*   Unpack our data and load onto the GPU\n",
    "*   Forward pass\n",
    "*   Compute the f1 score over the test set\n",
    "\n",
    "**Note**: check [here](https://scikit-learn.org/stable/modules/generated/sklearn.metrics.f1_score.html) for the use of `sklearn.metrics.f1_score`"
   ]
  },
  {
   "cell_type": "code",
   "execution_count": null,
   "metadata": {
    "id": "zJJcXa0QCs88"
   },
   "outputs": [],
   "source": [
    "from sklearn.metrics import f1_score\n",
    "\n",
    "# evaluation \n",
    "def evaluate(model, dataloader):\n",
    "  # put the model into the evaluation mode. The dropout layers are disabled during the test time.\n",
    "  model.eval()\n",
    "\n",
    "  # tracking variables\n",
    "  predictions = []\n",
    "  labels = []\n",
    "\n",
    "  # for each batch in our validation set...\n",
    "  for batch in dataloader:\n",
    "      # load batch to GPU\n",
    "      b_input_ids, b_attn_mask, b_token_type_ids, b_labels = tuple(t.to(device) for t in batch)\n",
    "\n",
    "      # compute logits\n",
    "      with torch.no_grad():\n",
    "          logits = model(b_input_ids, b_attn_mask, b_token_type_ids)\n",
    "\n",
    "      # get the predictions\n",
    "      preds = torch.argmax(logits, dim=1).flatten()\n",
    "      predictions.append(preds.detach().cpu().numpy())\n",
    "\n",
    "      # get the labels\n",
    "      labels.append(b_labels.detach().cpu().numpy())\n",
    "\n",
    "  # get two lists of predictions and labels with 1d array\n",
    "  predictions = np.concatenate(predictions, axis=0)\n",
    "  labels = np.concatenate(labels, axis=0)\n",
    "\n",
    "  # calc the f1 score using f1_score between predictions and labels\n",
    "  f1 = # YOUR CODE GOES HERE\n",
    "\n",
    "  return f1"
   ]
  },
  {
   "cell_type": "code",
   "execution_count": null,
   "metadata": {
    "id": "tajUr-CGFqAk"
   },
   "outputs": [],
   "source": [
    "score = evaluate(bert_classifier, test_dataloader)"
   ]
  },
  {
   "cell_type": "code",
   "execution_count": null,
   "metadata": {
    "id": "1NfhwIekF28T"
   },
   "outputs": [],
   "source": [
    "print('The f1 score for the test set is {0:4.2f}%'.format(score*100) )"
   ]
  },
  {
   "cell_type": "markdown",
   "metadata": {
    "id": "NBRgcwFZM3Dt"
   },
   "source": [
    "### Prediction\n",
    "\n",
    "In this part, you will use the fine-tuned `bert_classifier` to predict the sentiment of a given review from the IMDB dataset."
   ]
  },
  {
   "cell_type": "code",
   "execution_count": null,
   "metadata": {
    "id": "x1ATE7mwNF3X"
   },
   "outputs": [],
   "source": [
    "# Get one sample from IMDB\n",
    "instance = list(IMDB(split='test'))[10]"
   ]
  },
  {
   "cell_type": "code",
   "execution_count": null,
   "metadata": {
    "id": "j22YrlK2Ngkh"
   },
   "outputs": [],
   "source": [
    "sentiment, review = instance"
   ]
  },
  {
   "cell_type": "code",
   "execution_count": null,
   "metadata": {
    "id": "g0GDMlfNNqyx"
   },
   "outputs": [],
   "source": [
    "print(f'The review text is: \\n {review}')"
   ]
  },
  {
   "cell_type": "code",
   "execution_count": null,
   "metadata": {
    "id": "GmMntG0XNnHq"
   },
   "outputs": [],
   "source": [
    "print(f'The sentiment of the review text is: \\n {sentiment}')"
   ]
  },
  {
   "cell_type": "code",
   "execution_count": null,
   "metadata": {
    "id": "OWF5NbafNrmh"
   },
   "outputs": [],
   "source": [
    "# tokenize the review text\n",
    "output_tokenizer = tokenizer(review)\n",
    "\n",
    "# convert the tokenizer results to torch.tensor and send to the device(GPU)\n",
    "p_input_ids = torch.tensor(output_tokenizer['input_ids']).unsqueeze(0).to(device)\n",
    "p_attention_mask = torch.tensor(output_tokenizer['attention_mask']).unsqueeze(0).to(device)\n",
    "p_token_type_ids = torch.tensor(output_tokenizer['token_type_ids']).unsqueeze(0).to(device)\n",
    "\n",
    "# get the model output, refer to the evaluate function for help\n",
    "logits = # YOUR CODE GOES HERE\n",
    "prediction = # YOUR CODE GOES HERE\n",
    "\n",
    "# get the label\n",
    "prediction = 'neg' if prediction==0 else 'pos'\n",
    "print(f'The predicted sentiment is {prediction}, the true sentiment is {sentiment}.')"
   ]
  },
  {
   "cell_type": "markdown",
   "metadata": {
    "id": "CfKWXrm0SDSq"
   },
   "source": [
    "# Exercise 3: Visualize Attention in the BERT model\n",
    "\n",
    "Use **[BertViz](https://github.com/jessevig/bertviz)** to visualize the attention patterns produced by one or more attention heads in a BERT layer.\n",
    "\n",
    "**Note**: check [here](https://huggingface.co/transformers/model_doc/bert.html#transformers.BertModel.forward) for how to get attention from BertModel."
   ]
  },
  {
   "cell_type": "code",
   "execution_count": null,
   "metadata": {
    "id": "pEGuGrn_SJiW"
   },
   "outputs": [],
   "source": [
    "!pip install bertviz"
   ]
  },
  {
   "cell_type": "code",
   "execution_count": null,
   "metadata": {
    "id": "bL2azw2HS-SF"
   },
   "outputs": [],
   "source": [
    "from bertviz import head_view\n",
    "\n",
    "# Load model and retrieve attention\n",
    "model_version = 'bert-base-uncased'\n",
    "do_lower_case = True\n",
    "model = BertModel.from_pretrained(model_version, output_attentions=True)\n",
    "tokenizer = BertTokenizer.from_pretrained(model_version, do_lower_case=do_lower_case)\n",
    "sentence_a = \"The cat sat on the mat\"\n",
    "sentence_b = \"The cat lay on the rug\"\n",
    "inputs = tokenizer.encode_plus(sentence_a, sentence_b, return_tensors='pt', add_special_tokens=True)\n",
    "token_type_ids = inputs['token_type_ids']\n",
    "input_ids = inputs['input_ids']\n",
    "# input the model with input_ids and toekn_type_ids to get the attention\n",
    "attention = # YOUR CODE GOES HERE\n",
    "input_id_list = input_ids[0].tolist() # Batch index 0\n",
    "tokens = tokenizer.convert_ids_to_tokens(input_id_list)"
   ]
  },
  {
   "cell_type": "code",
   "execution_count": null,
   "metadata": {
    "id": "nPqJ-laoTlM_"
   },
   "outputs": [],
   "source": [
    "head_view(attention, tokens)"
   ]
  },
  {
   "cell_type": "code",
   "execution_count": null,
   "metadata": {
    "id": "j49YDsknTqGX"
   },
   "outputs": [],
   "source": []
  }
 ],
 "metadata": {
  "accelerator": "GPU",
  "colab": {
   "collapsed_sections": [],
   "name": "TransformerExercise.ipynb",
   "provenance": []
  },
  "kernelspec": {
   "display_name": "Python 3",
   "language": "python",
   "name": "python3"
  },
  "language_info": {
   "codemirror_mode": {
    "name": "ipython",
    "version": 3
   },
   "file_extension": ".py",
   "mimetype": "text/x-python",
   "name": "python",
   "nbconvert_exporter": "python",
   "pygments_lexer": "ipython3",
   "version": "3.8.6"
  }
 },
 "nbformat": 4,
 "nbformat_minor": 4
}

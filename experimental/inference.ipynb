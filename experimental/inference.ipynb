{
 "cells": [
  {
   "cell_type": "code",
   "execution_count": 22,
   "metadata": {},
   "outputs": [],
   "source": [
    "import sys\n",
    "import os\n",
    "\n",
    "# Not ideal but since it is only an excercise...\n",
    "PATH = r'/scratch/brussel/102/vsc10255/DL-project/experimental'\n",
    "PRODUCTION = os.path.join(PATH, os.pardir, 'production')\n",
    "sys.path.append(PRODUCTION)\n",
    "\n",
    "import logging\n",
    "import torch\n",
    "from torchvision import datasets, transforms\n",
    "from PIL import Image\n",
    "from models import LeNet5\n",
    "from matplotlib import pyplot as plt\n",
    "%matplotlib inline"
   ]
  },
  {
   "cell_type": "code",
   "execution_count": 14,
   "metadata": {},
   "outputs": [],
   "source": [
    "MODELPATH = os.path.join(PRODUCTION, 'runs', 'LeNet5_on_01-16-2022_14.39.36', 'LeNet5_on_01-16-2022_14.39.36', 'LeNet5_on_01-16-2022_14.39.36_inference.pt')\n",
    "IMAGEPATH = os.path.join(PATH, os.pardir, 'inference', 'images', '017.png')"
   ]
  },
  {
   "cell_type": "code",
   "execution_count": 56,
   "metadata": {},
   "outputs": [],
   "source": [
    "def invert(x):\n",
    "    return 1-x\n",
    "\n",
    "def preprocess(image_path):\n",
    "\n",
    "    # Define a transformer for preprocessing\n",
    "    transformer = transforms.Compose([\n",
    "        # Resize to 32x32 as per the model\n",
    "        transforms.Resize(32),\n",
    "        # Images need to be grayscale aswel\n",
    "        transforms.Grayscale(),\n",
    "        \n",
    "        transforms.CenterCrop(20),\n",
    "        transforms.Resize(32),\n",
    "\n",
    "        # Conversion to tensor\n",
    "        transforms.ToTensor(),\n",
    "        lambda img: img.apply_(invert),\n",
    "    ])\n",
    "\n",
    "    # Load the image with PILLOW as this is what pyvision uses internally\n",
    "    im = Image.open(image_path)\n",
    "\n",
    "    return transformer(im)"
   ]
  },
  {
   "cell_type": "code",
   "execution_count": 57,
   "metadata": {},
   "outputs": [],
   "source": [
    "image = preprocess(IMAGEPATH)"
   ]
  },
  {
   "cell_type": "code",
   "execution_count": 58,
   "metadata": {},
   "outputs": [],
   "source": [
    "image = image.squeeze()"
   ]
  },
  {
   "cell_type": "code",
   "execution_count": 59,
   "metadata": {},
   "outputs": [
    {
     "data": {
      "text/plain": [
       "<matplotlib.image.AxesImage at 0x2b55c6caa250>"
      ]
     },
     "execution_count": 59,
     "metadata": {},
     "output_type": "execute_result"
    },
    {
     "data": {
      "image/png": "[encoded data removed]",
      "text/plain": [
       "<Figure size 432x288 with 1 Axes>"
      ]
     },
     "metadata": {
      "needs_background": "light"
     },
     "output_type": "display_data"
    }
   ],
   "source": [
    "plt.imshow(image, cmap='binary')"
   ]
  },
  {
   "cell_type": "code",
   "execution_count": 24,
   "metadata": {},
   "outputs": [
    {
     "data": {
      "text/plain": [
       "tensor([[1., 1., 1.,  ..., 1., 1., 1.],\n",
       "        [1., 1., 1.,  ..., 1., 1., 1.],\n",
       "        [1., 1., 1.,  ..., 1., 1., 1.],\n",
       "        ...,\n",
       "        [1., 1., 1.,  ..., 1., 1., 1.],\n",
       "        [1., 1., 1.,  ..., 1., 1., 1.],\n",
       "        [1., 1., 1.,  ..., 1., 1., 1.]])"
      ]
     },
     "execution_count": 24,
     "metadata": {},
     "output_type": "execute_result"
    }
   ],
   "source": []
  },
  {
   "cell_type": "code",
   "execution_count": null,
   "metadata": {
    "jupyter": {
     "source_hidden": true
    }
   },
   "outputs": [],
   "source": [
    "if __name__ == '__main__':\n",
    "\n",
    "    log = logging.getLogger()\n",
    "    log.setLevel(logging.INFO)\n",
    "\n",
    "    formatter = logging.Formatter('%(asctime)s:%(levelname)s:%(message)s')\n",
    "\n",
    "    sh = logging.StreamHandler(sys.stdout)\n",
    "    sh.setLevel(logging.DEBUG)\n",
    "    sh.setFormatter(formatter)\n",
    "\n",
    "    log.addHandler(sh)\n",
    "\n",
    "    \n",
    "\n",
    "    LABEL_MAP = {\n",
    "        # not PEP8 formatted, but readable\n",
    "        0: '0', 1: '1', 2: '2', 3: '3', 4: '4', 5: '5', 6: '6', 7: '7', 8: '8', 9: '9',\n",
    "        10: 'A', 11: 'B', 12: 'C', 13: 'D', 14: 'E', 15: 'F', 16: 'G', 17: 'H', 18: 'I', 19: 'J',\n",
    "        20: 'K', 21: 'L', 22: 'M', 23: 'N', 24: 'O', 25: 'P', 26: 'Q', 27: 'R', 28: 'S', 29: 'T',\n",
    "        30: 'U', 31: 'V', 32: 'W', 33: 'X', 34: 'Y', 35: 'Z',\n",
    "        36: 'a', 37: 'b', 38: 'd', 39: 'e',\n",
    "        40: 'f', 41: 'g', 42: 'h', 43: 'n', 44: 'q', 45: 'r', 46: 't',\n",
    "    }\n",
    "\n",
    "    logging.info(f'The used model is located at {MODELPATH}')\n",
    "    logging.info(f'The folder with images for which the predictions will be made is located at {IMAGEPATH}')\n",
    "\n",
    "    # load and preprocess the image\n",
    "    logging.info('Preprocessing the image')\n",
    "    image = preprocess(IMAGEPATH)\n",
    "\n",
    "    # the model expects batches, since we only have 1 image, we need to add a dimension for the batch\n",
    "    image = image.unsqueeze(0)\n",
    "\n",
    "    logging.info('Loading the model')\n",
    "    # get the network architecture\n",
    "    model = LeNet5(47)\n",
    "\n",
    "    # load the model weights etc. onto the CPU for portability\n",
    "    model.load_state_dict(torch.load(MODELPATH, map_location=torch.device('cpu')))\n",
    "\n",
    "    # make the prediction\n",
    "    logging.info('Predicting the label for the image')\n",
    "    output = model(image)\n",
    "\n",
    "    # Get the prediction which is most likely our target\n",
    "    values, prediction = torch.max(output.data, 1)\n",
    "\n",
    "    print(output.data)\n",
    "    print(prediction.item())\n",
    "    \n",
    "    # Translate the predicted value to a character\n",
    "    result = LABEL_MAP[prediction.item()]\n",
    "    logging.info('====================')\n",
    "    logging.info(f'The image represent a {result}.')\n",
    "    logging.info('====================')"
   ]
  }
 ],
 "metadata": {
  "kernelspec": {
   "display_name": "Python 3",
   "language": "python",
   "name": "python3"
  },
  "language_info": {
   "codemirror_mode": {
    "name": "ipython",
    "version": 3
   },
   "file_extension": ".py",
   "mimetype": "text/x-python",
   "name": "python",
   "nbconvert_exporter": "python",
   "pygments_lexer": "ipython3",
   "version": "3.8.6"
  }
 },
 "nbformat": 4,
 "nbformat_minor": 4
}

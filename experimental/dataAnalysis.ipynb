{
 "cells": [
  {
   "cell_type": "code",
   "execution_count": 1,
   "metadata": {},
   "outputs": [
    {
     "data": {
      "text/plain": [
       "'/user/brussel/102/vsc10255/.cache/emnist/emnist.zip'"
      ]
     },
     "execution_count": 1,
     "metadata": {},
     "output_type": "execute_result"
    }
   ],
   "source": [
    "# Using the emnist python package to provide the dataset and easy acces interface\n",
    "import emnist;\n",
    "emnist.ensure_cached_data()"
   ]
  },
  {
   "cell_type": "code",
   "execution_count": 2,
   "metadata": {},
   "outputs": [],
   "source": [
    "from emnist import extract_training_samples\n",
    "from emnist import extract_test_samples\n",
    "%matplotlib inline\n",
    "from matplotlib import pyplot as plt\n",
    "import random\n",
    "import torch\n",
    "import numpy as np"
   ]
  },
  {
   "cell_type": "code",
   "execution_count": 3,
   "metadata": {},
   "outputs": [
    {
     "name": "stdout",
     "output_type": "stream",
     "text": [
      "There are 112800 training samples and 18800 test samples.\n"
     ]
    }
   ],
   "source": [
    "# Import the balanced dataset for now\n",
    "train_images, train_labels = extract_training_samples('balanced')\n",
    "test_images, test_labels = extract_test_samples('balanced')\n",
    "print('There are {} training samples and {} test samples.'.format(train_images.shape[0], test_images.shape[0]))"
   ]
  },
  {
   "cell_type": "code",
   "execution_count": 4,
   "metadata": {},
   "outputs": [],
   "source": [
    "# Construct a labelmap so we have a reference of each class label to a number or letter\n",
    "label_map = {\n",
    "    # not pythonic formatted, but readable\n",
    "    0: '0', 1: '1', 2: '2', 3: '3', 4: '4', 5: '5', 6: '6', 7: '7', 8: '8', 9: '9',\n",
    "    10: 'A', 11: 'B', 12: 'C', 13: 'D', 14: 'E', 15: 'F', 16: 'G', 17: 'H', 18: 'I', 19: 'J',\n",
    "    20: 'K', 21: 'L', 22: 'M', 23: 'N', 24: 'O', 25: 'P', 26: 'Q', 27: 'R', 28: 'S', 29: 'T',\n",
    "    30: 'U', 31: 'V', 32: 'W', 33: 'X', 34: 'Y', 35: 'Z',\n",
    "    36: 'a', 37: 'b', 38: 'd', 39: 'e',\n",
    "    40: 'f', 41: 'g', 42: 'h', 43: 'n', 44: 'q', 45: 'r', 46: 't',\n",
    "}"
   ]
  },
  {
   "cell_type": "code",
   "execution_count": 5,
   "metadata": {},
   "outputs": [
    {
     "data": {
      "image/png": "[encoded data removed]",
      "text/plain": [
       "<Figure size 1440x360 with 5 Axes>"
      ]
     },
     "metadata": {
      "needs_background": "light"
     },
     "output_type": "display_data"
    }
   ],
   "source": [
    "# plot random images and their labels for manual evaluation\n",
    "plt.figure(figsize=(20,5))\n",
    "image_count = 5\n",
    "\n",
    "for i, s in enumerate(range(image_count)):\n",
    "    s = s+1\n",
    "    p = plt.subplot(1, image_count, s)\n",
    "    rng = random.randrange(0, train_images.shape[0])\n",
    "    p.imshow(train_images[rng], cmap='binary')\n",
    "    label = train_labels[rng]\n",
    "    resolved = label_map[label]\n",
    "    p.set_title('{} ({})'.format(resolved, label), fontsize='xx-large')\n",
    "plt.show()"
   ]
  }
 ],
 "metadata": {
  "kernelspec": {
   "display_name": "Python 3",
   "language": "python",
   "name": "python3"
  },
  "language_info": {
   "codemirror_mode": {
    "name": "ipython",
    "version": 3
   },
   "file_extension": ".py",
   "mimetype": "text/x-python",
   "name": "python",
   "nbconvert_exporter": "python",
   "pygments_lexer": "ipython3",
   "version": "3.8.6"
  }
 },
 "nbformat": 4,
 "nbformat_minor": 4
}

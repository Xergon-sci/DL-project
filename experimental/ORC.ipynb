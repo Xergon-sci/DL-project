{
 "cells": [
  {
   "cell_type": "code",
   "execution_count": 1,
   "metadata": {},
   "outputs": [],
   "source": [
    "import torch\n",
    "from torch import nn\n",
    "from torch.nn import functional as F\n",
    "from torch import optim\n",
    "from torch.utils.data import DataLoader\n",
    "from torchvision import datasets\n",
    "from torchvision import transforms\n",
    "%matplotlib inline\n",
    "from matplotlib import pyplot as plt\n",
    "from dataclasses import dataclass\n",
    "import numpy as np"
   ]
  },
  {
   "cell_type": "code",
   "execution_count": 2,
   "metadata": {},
   "outputs": [],
   "source": [
    "# setup for GPU usage, with cuda ofc.\n",
    "if torch.cuda.is_available():\n",
    "    device = torch.device(\"cuda:0\")\n",
    "else:\n",
    "    print('Training on CPU!')"
   ]
  },
  {
   "cell_type": "code",
   "execution_count": 3,
   "metadata": {},
   "outputs": [],
   "source": [
    "# I try to separate the hyperparameters here, this is usefull when I move to production\n",
    "@dataclass\n",
    "class hyperparams:\n",
    "    # General\n",
    "    epochs: int = 20\n",
    "    batch_size: int = 32\n",
    "    \n",
    "    # Optimizer\n",
    "    learning_rate: float = 0.01\n",
    "    momentum: float = 0.5"
   ]
  },
  {
   "cell_type": "code",
   "execution_count": 4,
   "metadata": {},
   "outputs": [],
   "source": [
    "# Construct a labelmap for the EMNIST balanced set, so I have a reference of each class label to a number or letter based from the paper\n",
    "label_map = {\n",
    "    # not PEP8 formatted, but readable\n",
    "    0: '0', 1: '1', 2: '2', 3: '3', 4: '4', 5: '5', 6: '6', 7: '7', 8: '8', 9: '9',\n",
    "    10: 'A', 11: 'B', 12: 'C', 13: 'D', 14: 'E', 15: 'F', 16: 'G', 17: 'H', 18: 'I', 19: 'J',\n",
    "    20: 'K', 21: 'L', 22: 'M', 23: 'N', 24: 'O', 25: 'P', 26: 'Q', 27: 'R', 28: 'S', 29: 'T',\n",
    "    30: 'U', 31: 'V', 32: 'W', 33: 'X', 34: 'Y', 35: 'Z',\n",
    "    36: 'a', 37: 'b', 38: 'd', 39: 'e',\n",
    "    40: 'f', 41: 'g', 42: 'h', 43: 'n', 44: 'q', 45: 'r', 46: 't',\n",
    "}"
   ]
  },
  {
   "cell_type": "code",
   "execution_count": 5,
   "metadata": {},
   "outputs": [],
   "source": [
    "# First, I download the dataset and make generators for it, I will use the torchvision API to load the EMNIST dataset as it comes with dataset generators included.\n",
    "\n",
    "# Declare a transformer for the generator, transformations on the data can be done here, implemented compose to make adding transformation later on more easyer.\n",
    "transformer = transforms.Compose([\n",
    "    # First, fix the import rotate and flip all images to readable format\n",
    "    lambda img: transforms.functional.rotate(img, -90),\n",
    "    lambda img: transforms.functional.hflip(img),\n",
    "    \n",
    "    # Do some preprocessing here:\n",
    "    # Pad the images to a larger size to get the maximum from the highest level feature detectors conf. LeCun\n",
    "    transforms.Pad(2),\n",
    "    \n",
    "    # Normalize the data:\n",
    "    \n",
    "    transforms.ToTensor(),])\n",
    "\n",
    "# Define the train loader\n",
    "train_loader = DataLoader(\n",
    "    datasets.EMNIST('data/',\n",
    "                    split='balanced',\n",
    "                    train=True,\n",
    "                    download=True,\n",
    "                    transform=transformer),\n",
    "    batch_size=hyperparams.batch_size,\n",
    "    shuffle=True)\n",
    "\n",
    "# Define the test loader\n",
    "test_loader = DataLoader(\n",
    "    datasets.EMNIST('data/',\n",
    "                    split='balanced',\n",
    "                    train=False,\n",
    "                    download=True,\n",
    "                    transform=transformer),\n",
    "    batch_size=hyperparams.batch_size,\n",
    "    shuffle=True)"
   ]
  },
  {
   "cell_type": "code",
   "execution_count": 6,
   "metadata": {},
   "outputs": [],
   "source": [
    "# Make preparations to inspect the data\n",
    "# By using an enumerator, it is possible to retrieve one batch per call made to the enumerator.\n",
    "train_enumerator = enumerate(train_loader)"
   ]
  },
  {
   "cell_type": "code",
   "execution_count": 7,
   "metadata": {},
   "outputs": [
    {
     "data": {
      "image/png": "[encoded data removed]",
      "text/plain": [
       "<Figure size 1440x360 with 5 Axes>"
      ]
     },
     "metadata": {
      "needs_background": "light"
     },
     "output_type": "display_data"
    }
   ],
   "source": [
    "view_batch, (view_batch_images, view_batch_labels) = next(train_enumerator)\n",
    "\n",
    "# Now, plot the first x images and their labels from the batch for manual evaluation\n",
    "plt.figure(figsize=(20,5))\n",
    "image_count = 5\n",
    "\n",
    "for i, s in enumerate(range(image_count)):\n",
    "    s = s+1\n",
    "    p = plt.subplot(1, image_count, s)\n",
    "    p.imshow(view_batch_images[i][0], cmap='binary')\n",
    "    label = view_batch_labels[i]\n",
    "    resolved = label_map[int(label)]\n",
    "    p.set_title('{} ({})'.format(resolved, label), fontsize='xx-large')\n",
    "plt.show()"
   ]
  },
  {
   "cell_type": "code",
   "execution_count": 8,
   "metadata": {},
   "outputs": [],
   "source": [
    "class LeNet5(nn.Module):\n",
    "\n",
    "    def __init__(self, n_features):\n",
    "        super(LeNet5, self).__init__()\n",
    "\n",
    "        # Convolutional feature extractor\n",
    "        self.c1 = nn.Conv2d(in_channels=1, out_channels=6, kernel_size=5)\n",
    "        self.c3 = nn.Conv2d(in_channels=6, out_channels=16, kernel_size=5)\n",
    "        self.c5 = nn.Conv2d(in_channels=16, out_channels=120, kernel_size=5)\n",
    "\n",
    "        # Feed foreward network\n",
    "        self.f6 = nn.Linear(in_features=120, out_features=84)\n",
    "        # Customizable output features, allows us to work with different sets without refedining the model\n",
    "        self.f7 = nn.Linear(in_features=84, out_features=n_features)\n",
    "\n",
    "        # Define activation function and pooling layers, which are the same troughout the entire network\n",
    "        self.tanh = nn.Tanh()\n",
    "        self.pool = nn.AvgPool2d(kernel_size=2, stride=2)\n",
    "        # RBF not available in pytorch, replacing with softmax which is good for classification\n",
    "        self.softmax = nn.Softmax(dim=-1)\n",
    "\n",
    "\n",
    "    def forward(self, x):\n",
    "        x = self.c1(x)\n",
    "        x = self.tanh(x)\n",
    "        x = self.pool(x) #s2\n",
    "\n",
    "        x = self.c3(x)\n",
    "        x = self.tanh(x)\n",
    "        x = self.pool(x) #s4\n",
    "\n",
    "        x = self.c5(x)\n",
    "        x = self.tanh(x)\n",
    "\n",
    "        x = torch.flatten(x, 1)\n",
    "\n",
    "        x = self.f6(x)\n",
    "        x = self.tanh(x)\n",
    "\n",
    "        x = self.f7(x)\n",
    "        x = self.softmax(x)\n",
    "        return x\n",
    "\n",
    "\n",
    "model = LeNet5(47)\n",
    "\n",
    "# convert the NN to cuda tensors\n",
    "if torch.cuda.is_available():\n",
    "    model.to(device)"
   ]
  },
  {
   "cell_type": "code",
   "execution_count": 9,
   "metadata": {},
   "outputs": [],
   "source": [
    "# lets use the CrossEntropy as loss function\n",
    "loss_metric = nn.CrossEntropyLoss()\n",
    "\n",
    "# and the SGD as optimizer for now\n",
    "optimizer = optim.SGD(model.parameters(), lr=hyperparams.learning_rate , momentum=hyperparams.momentum)"
   ]
  },
  {
   "cell_type": "code",
   "execution_count": 10,
   "metadata": {},
   "outputs": [
    {
     "name": "stdout",
     "output_type": "stream",
     "text": [
      "Epoch: 1/20... Loss: 0.698586... Val Loss: 0.738245\n",
      "Epoch: 2/20... Loss: 0.323370... Val Loss: 1.380418\n",
      "Epoch: 3/20... Loss: 0.504184... Val Loss: 0.895097\n",
      "Epoch: 4/20... Loss: 0.242852... Val Loss: 0.149778\n",
      "Epoch: 5/20... Loss: 0.352154... Val Loss: 0.321880\n",
      "Epoch: 6/20... Loss: 0.244178... Val Loss: 0.129598\n",
      "Epoch: 7/20... Loss: 0.347517... Val Loss: 0.144559\n",
      "Epoch: 8/20... Loss: 0.181965... Val Loss: 0.222567\n",
      "Epoch: 9/20... Loss: 0.188668... Val Loss: 0.664914\n",
      "Epoch: 10/20... Loss: 0.251545... Val Loss: 0.200526\n",
      "Epoch: 11/20... Loss: 0.215426... Val Loss: 0.312994\n",
      "Epoch: 12/20... Loss: 0.237094... Val Loss: 0.623283\n",
      "Epoch: 13/20... Loss: 0.185781... Val Loss: 0.092453\n",
      "Epoch: 14/20... Loss: 0.195388... Val Loss: 0.076523\n",
      "Epoch: 15/20... Loss: 0.192808... Val Loss: 0.320348\n",
      "Epoch: 16/20... Loss: 0.246522... Val Loss: 0.188247\n",
      "Epoch: 17/20... Loss: 0.377428... Val Loss: 0.233341\n",
      "Epoch: 18/20... Loss: 0.088049... Val Loss: 0.445100\n",
      "Epoch: 19/20... Loss: 0.171122... Val Loss: 0.253716\n",
      "Epoch: 20/20... Loss: 0.408212... Val Loss: 0.527158\n"
     ]
    }
   ],
   "source": [
    "# a list for the metrics\n",
    "epoch_train_losses = []\n",
    "epoch_val_losses = []\n",
    "\n",
    "# training-loop\n",
    "for epoch in range(hyperparams.epochs):\n",
    "    \n",
    "    # go over all the batches\n",
    "    for batch in train_loader:\n",
    "        # first, retrieve our data for this batch and send it to the GPU\n",
    "        images = batch[0].to(device)\n",
    "        labels = batch[1].to(device)\n",
    "        \n",
    "        # set the parameter gradients to zero\n",
    "        optimizer.zero_grad()\n",
    "        \n",
    "        # Make predictions based on the training set\n",
    "        outputs = model(images)\n",
    "        \n",
    "        # compute the loss based on model output and real labels\n",
    "        loss = loss_metric(outputs, labels)\n",
    "        \n",
    "        # backpropagation\n",
    "        loss.backward()\n",
    "        \n",
    "        # Optimize parameters\n",
    "        optimizer.step()\n",
    "        \n",
    "    # === loss stats every epoch ===\n",
    "    # put network in eval mode\n",
    "    model.eval()\n",
    "    for val_data in test_loader:\n",
    "        images = val_data[0].to(device)\n",
    "        labels = val_data[1].to(device)\n",
    "\n",
    "        output = model(images)\n",
    "        val_loss = loss_metric(output, labels)\n",
    "\n",
    "    epoch_train_losses.append(loss.item())\n",
    "    epoch_val_losses.append(val_loss.item())\n",
    "\n",
    "    # back to training\n",
    "    model.train()\n",
    "\n",
    "    # stolen from exercises\n",
    "    print(\"Epoch: {}/{}...\".format(epoch+1, hyperparams.epochs),\n",
    "          \"Loss: {:.6f}...\".format(loss.item()),\n",
    "          \"Val Loss: {:.6f}\".format(val_loss.item()))"
   ]
  },
  {
   "cell_type": "code",
   "execution_count": 11,
   "metadata": {},
   "outputs": [
    {
     "data": {
      "image/png": "[encoded data removed]",
      "text/plain": [
       "<Figure size 1440x360 with 1 Axes>"
      ]
     },
     "metadata": {
      "needs_background": "light"
     },
     "output_type": "display_data"
    }
   ],
   "source": [
    "plt.figure(figsize=(20,5))\n",
    "\n",
    "ax1 = plt.plot(epoch_train_losses, label='Train loss')\n",
    "ax2 = plt.plot(epoch_val_losses, label='Val loss')\n",
    "\n",
    "plt.title('Loss variation i.f.o. the epochs')\n",
    "plt.xlabel('Epochs')\n",
    "plt.ylabel('Loss')\n",
    "plt.legend()\n",
    "\n",
    "plt.show()"
   ]
  },
  {
   "cell_type": "code",
   "execution_count": 12,
   "metadata": {},
   "outputs": [
    {
     "name": "stdout",
     "output_type": "stream",
     "text": [
      "Accuracy of the network on the 10000 test images: 87 %\n"
     ]
    }
   ],
   "source": [
    "correct = 0\n",
    "total = 0\n",
    "# since we're not training, we don't need to calculate the gradients for our outputs\n",
    "with torch.no_grad():\n",
    "    for data in test_loader:\n",
    "        inputs, labels = data[0].to(device), data[1].to(device)\n",
    "        # calculate outputs by running images through the network\n",
    "        outputs = model(inputs)\n",
    "        # the class with the highest energy is what we choose as prediction\n",
    "        _, predicted = torch.max(outputs.data, 1)\n",
    "        total += labels.size(0)\n",
    "        correct += (predicted == labels).sum().item()\n",
    "\n",
    "print('Accuracy of the network on the 10000 test images: %d %%' % (\n",
    "    100 * correct / total))"
   ]
  },
  {
   "cell_type": "code",
   "execution_count": 13,
   "metadata": {},
   "outputs": [
    {
     "name": "stdout",
     "output_type": "stream",
     "text": [
      "Accuracy for class 0     is: 84.2 %\n",
      "Accuracy for class 1     is: 87.2 %\n",
      "Accuracy for class 2     is: 87.2 %\n",
      "Accuracy for class 3     is: 98.0 %\n",
      "Accuracy for class 4     is: 92.8 %\n",
      "Accuracy for class 5     is: 92.0 %\n",
      "Accuracy for class 6     is: 92.5 %\n",
      "Accuracy for class 7     is: 97.2 %\n",
      "Accuracy for class 8     is: 90.8 %\n",
      "Accuracy for class 9     is: 72.5 %\n",
      "Accuracy for class A     is: 92.8 %\n",
      "Accuracy for class B     is: 92.0 %\n",
      "Accuracy for class C     is: 96.8 %\n",
      "Accuracy for class D     is: 86.5 %\n",
      "Accuracy for class E     is: 97.8 %\n",
      "Accuracy for class F     is: 55.0 %\n",
      "Accuracy for class G     is: 93.0 %\n",
      "Accuracy for class H     is: 95.0 %\n",
      "Accuracy for class I     is: 52.8 %\n",
      "Accuracy for class J     is: 92.5 %\n",
      "Accuracy for class K     is: 95.5 %\n",
      "Accuracy for class L     is: 37.0 %\n",
      "Accuracy for class M     is: 95.0 %\n",
      "Accuracy for class N     is: 94.8 %\n",
      "Accuracy for class O     is: 53.2 %\n",
      "Accuracy for class P     is: 92.5 %\n",
      "Accuracy for class Q     is: 91.5 %\n",
      "Accuracy for class R     is: 93.5 %\n",
      "Accuracy for class S     is: 92.0 %\n",
      "Accuracy for class T     is: 91.0 %\n",
      "Accuracy for class U     is: 92.8 %\n",
      "Accuracy for class V     is: 93.2 %\n",
      "Accuracy for class W     is: 98.5 %\n",
      "Accuracy for class X     is: 94.8 %\n",
      "Accuracy for class Y     is: 90.5 %\n",
      "Accuracy for class Z     is: 94.8 %\n",
      "Accuracy for class a     is: 87.5 %\n",
      "Accuracy for class b     is: 92.8 %\n",
      "Accuracy for class d     is: 95.2 %\n",
      "Accuracy for class e     is: 94.2 %\n",
      "Accuracy for class f     is: 73.2 %\n",
      "Accuracy for class g     is: 66.0 %\n",
      "Accuracy for class h     is: 93.5 %\n",
      "Accuracy for class n     is: 91.2 %\n",
      "Accuracy for class q     is: 60.0 %\n",
      "Accuracy for class r     is: 93.5 %\n",
      "Accuracy for class t     is: 93.2 %\n"
     ]
    }
   ],
   "source": [
    "#prepare to count predictions for each class\n",
    "correct_pred = {label_map[key]: 0 for key in label_map}\n",
    "total_pred = {label_map[key]: 0 for key in label_map}\n",
    "\n",
    "# again no gradients needed\n",
    "with torch.no_grad():\n",
    "    for data in test_loader:\n",
    "        inputs, labels = data[0].to(device), data[1].to(device)\n",
    "        outputs = model(inputs)\n",
    "        _, predictions = torch.max(outputs, 1)\n",
    "        # collect the correct predictions for each class\n",
    "        for label, prediction in zip(labels, predictions):\n",
    "            if label == prediction:\n",
    "                correct_pred[label_map[int(label)]] += 1\n",
    "            total_pred[label_map[int(label)]] += 1\n",
    "\n",
    "\n",
    "# print accuracy for each class\n",
    "accuracies = []\n",
    "for classname, correct_count in correct_pred.items():\n",
    "    accuracy = 100 * float(correct_count) / total_pred[classname]\n",
    "    print(\"Accuracy for class {:5s} is: {:.1f} %\".format(classname,\n",
    "                                                   accuracy))\n",
    "    accuracies.append(accuracy)"
   ]
  },
  {
   "cell_type": "code",
   "execution_count": 14,
   "metadata": {},
   "outputs": [
    {
     "data": {
      "image/png": "[encoded data removed]",
      "text/plain": [
       "<Figure size 1440x360 with 1 Axes>"
      ]
     },
     "metadata": {
      "needs_background": "light"
     },
     "output_type": "display_data"
    }
   ],
   "source": [
    "labels = list(label_map.values())\n",
    "\n",
    "plt.figure(figsize=(20,5))\n",
    "ax = plt.bar(labels, accuracies)\n",
    "plt.title('Accuracies')\n",
    "plt.xlabel('Alphanumeric ')\n",
    "plt.ylabel('Accuracy (%)')\n",
    "\n",
    "plt.show()"
   ]
  }
 ],
 "metadata": {
  "kernelspec": {
   "display_name": "Python 3",
   "language": "python",
   "name": "python3"
  },
  "language_info": {
   "codemirror_mode": {
    "name": "ipython",
    "version": 3
   },
   "file_extension": ".py",
   "mimetype": "text/x-python",
   "name": "python",
   "nbconvert_exporter": "python",
   "pygments_lexer": "ipython3",
   "version": "3.8.6"
  }
 },
 "nbformat": 4,
 "nbformat_minor": 4
}

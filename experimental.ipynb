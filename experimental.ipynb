{
 "cells": [
  {
   "cell_type": "code",
   "execution_count": 13,
   "metadata": {},
   "outputs": [],
   "source": [
    "import torch\n",
    "from torch import nn\n",
    "from torch.nn import functional as F\n",
    "from torch import optim\n",
    "from torch.utils.data import DataLoader\n",
    "from torchvision import datasets\n",
    "from torchvision import transforms\n",
    "%matplotlib inline\n",
    "from matplotlib import pyplot as plt\n",
    "from dataclasses import dataclass\n",
    "import numpy as np"
   ]
  },
  {
   "cell_type": "code",
   "execution_count": 2,
   "metadata": {},
   "outputs": [],
   "source": [
    "# setup for GPU usage, with cuda ofc.\n",
    "if torch.cuda.is_available():\n",
    "    device = torch.device(\"cuda:0\")\n",
    "else:\n",
    "    print('Training on CPU!')"
   ]
  },
  {
   "cell_type": "code",
   "execution_count": 3,
   "metadata": {},
   "outputs": [],
   "source": [
    "# I try to separate the hyperparameters here, this is usefull when I move to production\n",
    "@dataclass\n",
    "class hyperparams:\n",
    "    # General\n",
    "    epochs: int = 10\n",
    "    batch_size: int = 32\n",
    "    \n",
    "    # Optimizer\n",
    "    learning_rate: float = 0.01\n",
    "    momentum: float = 0.5\n",
    "\n",
    "# Also an object for monitoring the metrics\n",
    "@dataclass\n",
    "class metrics:\n",
    "    train_loss: float\n",
    "    train_accuracy: float\n",
    "    \n",
    "    val_loss: float\n",
    "    val_accuracy: float"
   ]
  },
  {
   "cell_type": "code",
   "execution_count": 4,
   "metadata": {},
   "outputs": [],
   "source": [
    "# Construct a labelmap for the EMNIST balanced set, so I have a reference of each class label to a number or letter based from the paper\n",
    "label_map = {\n",
    "    # not PEP8 formatted, but readable\n",
    "    0: '0', 1: '1', 2: '2', 3: '3', 4: '4', 5: '5', 6: '6', 7: '7', 8: '8', 9: '9',\n",
    "    10: 'A', 11: 'B', 12: 'C', 13: 'D', 14: 'E', 15: 'F', 16: 'G', 17: 'H', 18: 'I', 19: 'J',\n",
    "    20: 'K', 21: 'L', 22: 'M', 23: 'N', 24: 'O', 25: 'P', 26: 'Q', 27: 'R', 28: 'S', 29: 'T',\n",
    "    30: 'U', 31: 'V', 32: 'W', 33: 'X', 34: 'Y', 35: 'Z',\n",
    "    36: 'a', 37: 'b', 38: 'd', 39: 'e',\n",
    "    40: 'f', 41: 'g', 42: 'h', 43: 'n', 44: 'q', 45: 'r', 46: 't',\n",
    "}"
   ]
  },
  {
   "cell_type": "code",
   "execution_count": 5,
   "metadata": {},
   "outputs": [],
   "source": [
    "# First, I download the dataset and make generators for it, I will use the torchvision API to load the EMNIST dataset as it comes with dataset generators included.\n",
    "\n",
    "# Declare a transformer for the generator, transformations on the data can be done here, implemented compose to make adding transformation later on more easyer.\n",
    "transformer = transforms.Compose([\n",
    "    # First, fix the import rotate and flip all images to readable format\n",
    "    lambda img: transforms.functional.rotate(img, -90),\n",
    "    lambda img: transforms.functional.hflip(img),\n",
    "    \n",
    "    # Do some preprocessing here:\n",
    "    \n",
    "    # Normalize the data:\n",
    "    \n",
    "    transforms.ToTensor(),])\n",
    "\n",
    "# Define the train loader\n",
    "train_loader = DataLoader(\n",
    "    datasets.EMNIST('data/',\n",
    "                    split='balanced',\n",
    "                    train=True,\n",
    "                    download=True,\n",
    "                    transform=transformer),\n",
    "    batch_size=hyperparams.batch_size,\n",
    "    shuffle=True)\n",
    "\n",
    "# Define the test loader\n",
    "test_loader = DataLoader(\n",
    "    datasets.EMNIST('data/',\n",
    "                    split='balanced',\n",
    "                    train=False,\n",
    "                    download=True,\n",
    "                    transform=transformer),\n",
    "    batch_size=hyperparams.batch_size,\n",
    "    shuffle=True)"
   ]
  },
  {
   "cell_type": "code",
   "execution_count": 6,
   "metadata": {},
   "outputs": [],
   "source": [
    "# Make preparations to inspect the data\n",
    "# By using an enumerator, it is possible to retrieve one batch per call made to the enumerator.\n",
    "train_enumerator = enumerate(train_loader)"
   ]
  },
  {
   "cell_type": "code",
   "execution_count": 7,
   "metadata": {},
   "outputs": [
    {
     "data": {
      "image/png": "[encoded data removed]",
      "text/plain": [
       "<Figure size 1440x360 with 5 Axes>"
      ]
     },
     "metadata": {
      "needs_background": "light"
     },
     "output_type": "display_data"
    }
   ],
   "source": [
    "view_batch, (view_batch_images, view_batch_labels) = next(train_enumerator)\n",
    "\n",
    "# Now, plot the first x images and their labels from the batch for manual evaluation\n",
    "plt.figure(figsize=(20,5))\n",
    "image_count = 5\n",
    "\n",
    "for i, s in enumerate(range(image_count)):\n",
    "    s = s+1\n",
    "    p = plt.subplot(1, image_count, s)\n",
    "    p.imshow(view_batch_images[i][0], cmap='binary')\n",
    "    label = view_batch_labels[i]\n",
    "    resolved = label_map[int(label)]\n",
    "    p.set_title('{} ({})'.format(resolved, label), fontsize='xx-large')\n",
    "plt.show()"
   ]
  },
  {
   "cell_type": "code",
   "execution_count": 8,
   "metadata": {},
   "outputs": [
    {
     "data": {
      "text/plain": [
       "Model(\n",
       "  (conv1): Conv2d(1, 6, kernel_size=(5, 5), stride=(1, 1))\n",
       "  (conv2): Conv2d(6, 16, kernel_size=(5, 5), stride=(1, 1))\n",
       "  (fc1): Linear(in_features=256, out_features=120, bias=True)\n",
       "  (fc2): Linear(in_features=120, out_features=84, bias=True)\n",
       "  (fc3): Linear(in_features=84, out_features=47, bias=True)\n",
       ")"
      ]
     },
     "execution_count": 8,
     "metadata": {},
     "output_type": "execute_result"
    }
   ],
   "source": [
    "class Model(nn.Module):\n",
    "\n",
    "    # SOME MODEL NEEDS EDITING AND TUNING\n",
    "    def __init__(self):\n",
    "        super(Model, self).__init__()\n",
    "        # 1 input image channel, 6 output channels, 5x5 square convolution\n",
    "        # kernel\n",
    "        self.conv1 = nn.Conv2d(1, 6, 5)\n",
    "        self.conv2 = nn.Conv2d(6, 16, 5)\n",
    "        # an affine operation: y = Wx + b\n",
    "        self.fc1 = nn.Linear(256, 120)  # Batch size * imdim_x * imdim_y\n",
    "        self.fc2 = nn.Linear(120, 84)\n",
    "        self.fc3 = nn.Linear(84, 47)\n",
    "\n",
    "    def forward(self, x):\n",
    "        # Max pooling over a (2, 2) window\n",
    "        x = F.max_pool2d(F.relu(self.conv1(x)), (2, 2))\n",
    "        # If the size is a square, you can specify with a single number\n",
    "        x = F.max_pool2d(F.relu(self.conv2(x)), 2)\n",
    "        x = torch.flatten(x, 1) # flatten all dimensions except the batch dimension\n",
    "        x = F.relu(self.fc1(x))\n",
    "        x = F.relu(self.fc2(x))\n",
    "        x = self.fc3(x)\n",
    "        return x\n",
    "\n",
    "\n",
    "model = Model()\n",
    "\n",
    "# convert the NN to cuda tensors\n",
    "model.to(device)"
   ]
  },
  {
   "cell_type": "code",
   "execution_count": 9,
   "metadata": {},
   "outputs": [],
   "source": [
    "# lets use the CrossEntropy as loss function\n",
    "loss_metric = nn.CrossEntropyLoss()\n",
    "\n",
    "# and the SGD as optimizer for now\n",
    "optimizer = optim.SGD(model.parameters(), lr=hyperparams.learning_rate , momentum=hyperparams.momentum)"
   ]
  },
  {
   "cell_type": "code",
   "execution_count": 22,
   "metadata": {},
   "outputs": [
    {
     "name": "stdout",
     "output_type": "stream",
     "text": [
      "Epoch: 1/10... Step: 2999... Loss: 0.414163... Val Loss: 0.414999\n",
      "Epoch: 2/10... Step: 2999... Loss: 0.508667... Val Loss: 0.420038\n",
      "Epoch: 3/10... Step: 2999... Loss: 0.455147... Val Loss: 0.413157\n",
      "Epoch: 4/10... Step: 2999... Loss: 0.344282... Val Loss: 0.398269\n",
      "Epoch: 5/10... Step: 2999... Loss: 0.575696... Val Loss: 0.409803\n",
      "Epoch: 6/10... Step: 2999... Loss: 0.187941... Val Loss: 0.398413\n",
      "Epoch: 7/10... Step: 2999... Loss: 0.393125... Val Loss: 0.404447\n",
      "Epoch: 8/10... Step: 2999... Loss: 0.158126... Val Loss: 0.407798\n",
      "Epoch: 9/10... Step: 2999... Loss: 0.113759... Val Loss: 0.392435\n",
      "Epoch: 10/10... Step: 2999... Loss: 0.272029... Val Loss: 0.404920\n"
     ]
    }
   ],
   "source": [
    "# a list for the metrics\n",
    "training_metrics = []\n",
    "\n",
    "# training-loop\n",
    "for epoch in range(hyperparams.epochs):\n",
    "    \n",
    "    # go over all the batches\n",
    "    for i, data in enumerate(train_loader):\n",
    "        # first, retrieve our data for this batch and send it to the GPU\n",
    "        images = data[0].to(device)\n",
    "        labels = data[1].to(device)\n",
    "        \n",
    "        # set the parameter gradients to zero\n",
    "        optimizer.zero_grad()\n",
    "        \n",
    "        # Make predictions based on the training set\n",
    "        outputs = model(images)\n",
    "        \n",
    "        # compute the loss based on model output and real labels\n",
    "        loss = loss_metric(outputs, labels)\n",
    "        \n",
    "        # backpropagation\n",
    "        loss.backward()\n",
    "        \n",
    "        # Optimize parameters\n",
    "        optimizer.step()\n",
    "        \n",
    "        # loss stats per every 1000 training images\n",
    "        if i % 3000 == 2999:\n",
    "            val_losses = []\n",
    "            \n",
    "            # put network in eval mode\n",
    "            model.eval()\n",
    "            for val_data in test_loader:\n",
    "                images = val_data[0].to(device)\n",
    "                labels = val_data[1].to(device)\n",
    "\n",
    "                output = model(images)\n",
    "                val_loss = loss_metric(output, labels)\n",
    "\n",
    "                val_losses.append(val_loss.item())\n",
    "            \n",
    "            # back to training\n",
    "            model.train()\n",
    "            # stolen from exercises\n",
    "            print(\"Epoch: {}/{}...\".format(epoch+1, hyperparams.epochs),\n",
    "                  \"Step: {}...\".format(i),\n",
    "                  \"Loss: {:.6f}...\".format(loss.item()),\n",
    "                  \"Val Loss: {:.6f}\".format(np.mean(val_losses)))"
   ]
  },
  {
   "cell_type": "code",
   "execution_count": 23,
   "metadata": {},
   "outputs": [
    {
     "data": {
      "text/plain": [
       "[<matplotlib.lines.Line2D at 0x7f7a27b787f0>]"
      ]
     },
     "execution_count": 23,
     "metadata": {},
     "output_type": "execute_result"
    },
    {
     "data": {
      "image/png": "[encoded data removed]",
      "text/plain": [
       "<Figure size 432x288 with 1 Axes>"
      ]
     },
     "metadata": {
      "needs_background": "light"
     },
     "output_type": "display_data"
    }
   ],
   "source": [
    "plt.plot(val_losses)"
   ]
  },
  {
   "cell_type": "code",
   "execution_count": 20,
   "metadata": {},
   "outputs": [
    {
     "name": "stdout",
     "output_type": "stream",
     "text": [
      "Accuracy of the network on the 10000 test images: 85 %\n"
     ]
    }
   ],
   "source": [
    "correct = 0\n",
    "total = 0\n",
    "# since we're not training, we don't need to calculate the gradients for our outputs\n",
    "with torch.no_grad():\n",
    "    for data in test_loader:\n",
    "        inputs, labels = data[0].to(device), data[1].to(device)\n",
    "        # calculate outputs by running images through the network\n",
    "        outputs = model(inputs)\n",
    "        # the class with the highest energy is what we choose as prediction\n",
    "        _, predicted = torch.max(outputs.data, 1)\n",
    "        total += labels.size(0)\n",
    "        correct += (predicted == labels).sum().item()\n",
    "\n",
    "print('Accuracy of the network on the 10000 test images: %d %%' % (\n",
    "    100 * correct / total))"
   ]
  },
  {
   "cell_type": "code",
   "execution_count": 21,
   "metadata": {},
   "outputs": [
    {
     "name": "stdout",
     "output_type": "stream",
     "text": [
      "Accuracy for class 0     is: 71.5 %\n",
      "Accuracy for class 1     is: 63.5 %\n",
      "Accuracy for class 2     is: 76.8 %\n",
      "Accuracy for class 3     is: 96.8 %\n",
      "Accuracy for class 4     is: 90.5 %\n",
      "Accuracy for class 5     is: 91.8 %\n",
      "Accuracy for class 6     is: 95.0 %\n",
      "Accuracy for class 7     is: 96.0 %\n",
      "Accuracy for class 8     is: 89.0 %\n",
      "Accuracy for class 9     is: 90.2 %\n",
      "Accuracy for class A     is: 95.8 %\n",
      "Accuracy for class B     is: 93.2 %\n",
      "Accuracy for class C     is: 94.0 %\n",
      "Accuracy for class D     is: 88.2 %\n",
      "Accuracy for class E     is: 96.8 %\n",
      "Accuracy for class F     is: 69.8 %\n",
      "Accuracy for class G     is: 91.2 %\n",
      "Accuracy for class H     is: 96.8 %\n",
      "Accuracy for class I     is: 63.8 %\n",
      "Accuracy for class J     is: 94.0 %\n",
      "Accuracy for class K     is: 94.0 %\n",
      "Accuracy for class L     is: 49.0 %\n",
      "Accuracy for class M     is: 92.8 %\n",
      "Accuracy for class N     is: 95.0 %\n",
      "Accuracy for class O     is: 60.0 %\n",
      "Accuracy for class P     is: 93.5 %\n",
      "Accuracy for class Q     is: 89.8 %\n",
      "Accuracy for class R     is: 94.2 %\n",
      "Accuracy for class S     is: 82.8 %\n",
      "Accuracy for class T     is: 93.2 %\n",
      "Accuracy for class U     is: 87.8 %\n",
      "Accuracy for class V     is: 92.0 %\n",
      "Accuracy for class W     is: 98.8 %\n",
      "Accuracy for class X     is: 93.0 %\n",
      "Accuracy for class Y     is: 90.0 %\n",
      "Accuracy for class Z     is: 93.0 %\n",
      "Accuracy for class a     is: 86.8 %\n",
      "Accuracy for class b     is: 90.5 %\n",
      "Accuracy for class d     is: 95.2 %\n",
      "Accuracy for class e     is: 95.8 %\n",
      "Accuracy for class f     is: 57.2 %\n",
      "Accuracy for class g     is: 57.0 %\n",
      "Accuracy for class h     is: 91.2 %\n",
      "Accuracy for class n     is: 88.0 %\n",
      "Accuracy for class q     is: 44.2 %\n",
      "Accuracy for class r     is: 93.5 %\n",
      "Accuracy for class t     is: 91.0 %\n"
     ]
    }
   ],
   "source": [
    "#prepare to count predictions for each class\n",
    "correct_pred = {label_map[key]: 0 for key in label_map}\n",
    "total_pred = {label_map[key]: 0 for key in label_map}\n",
    "\n",
    "# again no gradients needed\n",
    "with torch.no_grad():\n",
    "    for data in test_loader:\n",
    "        inputs, labels = data[0].to(device), data[1].to(device)\n",
    "        outputs = model(inputs)\n",
    "        _, predictions = torch.max(outputs, 1)\n",
    "        # collect the correct predictions for each class\n",
    "        for label, prediction in zip(labels, predictions):\n",
    "            if label == prediction:\n",
    "                correct_pred[label_map[int(label)]] += 1\n",
    "            total_pred[label_map[int(label)]] += 1\n",
    "\n",
    "\n",
    "# print accuracy for each class\n",
    "for classname, correct_count in correct_pred.items():\n",
    "    accuracy = 100 * float(correct_count) / total_pred[classname]\n",
    "    print(\"Accuracy for class {:5s} is: {:.1f} %\".format(classname,\n",
    "                                                   accuracy))"
   ]
  }
 ],
 "metadata": {
  "kernelspec": {
   "display_name": "Python 3",
   "language": "python",
   "name": "python3"
  },
  "language_info": {
   "codemirror_mode": {
    "name": "ipython",
    "version": 3
   },
   "file_extension": ".py",
   "mimetype": "text/x-python",
   "name": "python",
   "nbconvert_exporter": "python",
   "pygments_lexer": "ipython3",
   "version": "3.8.6"
  }
 },
 "nbformat": 4,
 "nbformat_minor": 4
}
